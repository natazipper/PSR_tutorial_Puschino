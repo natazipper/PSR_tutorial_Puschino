{
 "cells": [
  {
   "cell_type": "code",
   "execution_count": null,
   "id": "b8f1c1ce",
   "metadata": {},
   "outputs": [],
   "source": [
    "import numpy as np\n",
    "import math\n",
    "import dynesty\n",
    "import matplotlib.pyplot as plt"
   ]
  },
  {
   "cell_type": "markdown",
   "id": "5128f2a7",
   "metadata": {},
   "source": [
    "## Signal injection"
   ]
  },
  {
   "cell_type": "code",
   "execution_count": null,
   "id": "c958add3",
   "metadata": {},
   "outputs": [],
   "source": [
    "#simple sine wave, which is essentialy a continuous GW from a single supermassive black hole binary\n",
    "def gw_sig(logh, log_omega, phase, time, err):\n",
    "  det_sig = 10**logh/10**log_omega * np.sin(10**log_omega * time + phase)\n",
    "  #plus white noise\n",
    "  det_sig += err * np.random.randn(len(time))\n",
    "  return det_sig\n",
    "\n",
    "#define the injected parameters\n",
    "logh_true = -13.4 # dimensionless amplitude h\n",
    "log_omega_true = -7. # Hz\n",
    "phase_true = np.random.uniform(0, 2. * np.pi) #initialize random phase\n",
    "\n",
    "\n",
    "err = 100. * 1e-9 #100 ns\n",
    "time = np.arange(-365.25 * 5., 365.25 * 5., 14.) # 10 years of observations every 14 days\n",
    "y = gw_sig(logh_true, log_omega_true, phase_true, time * 24. *3600., err)\n",
    "\n",
    "plt.errorbar(time, y, err, fmt = \".\")\n",
    "plt.xlabel(\"Days\")\n",
    "plt.ylabel(\"Timing resduals, s\")"
   ]
  },
  {
   "cell_type": "markdown",
   "id": "b74c399d",
   "metadata": {},
   "source": [
    "## Likelihood construction and evaluation"
   ]
  },
  {
   "cell_type": "markdown",
   "id": "93a5d31e",
   "metadata": {},
   "source": [
    "### Construct a prior. \n",
    "u is a Uniformly distributed varaible [0, 1]."
   ]
  },
  {
   "cell_type": "code",
   "execution_count": null,
   "id": "0c219b25",
   "metadata": {},
   "outputs": [],
   "source": [
    "def prior_transform(u):\n",
    "    v = u * 3\n",
    "    v[0] = u[0] * 8 - 20 # [-20, -12]\n",
    "    v[1] = .... # [-9, -5]\n",
    "    v[2] = .... # [0, 2pi]\n",
    "    return v"
   ]
  },
  {
   "cell_type": "markdown",
   "id": "6f736c19",
   "metadata": {},
   "source": [
    "### Construct a simple Gaussian likelhood"
   ]
  },
  {
   "cell_type": "code",
   "execution_count": null,
   "id": "971b1265",
   "metadata": {},
   "outputs": [],
   "source": [
    "def loglike(v):\n",
    "    logh, log_omega, phase = v\n",
    "    t = time * 24. * 3600.\n",
    "    sigma = err\n",
    "    arg = 10**log_omega * t + phase\n",
    "    model = 10**logh/10**log_omega * np.sin(arg)\n",
    "    res = y - model\n",
    "    loglike = .....\n",
    "    \n",
    "    if not np.isfinite(loglike):\n",
    "        loglike = -1e300\n",
    "        \n",
    "    return loglike"
   ]
  },
  {
   "cell_type": "markdown",
   "id": "7c7f1d50",
   "metadata": {},
   "source": [
    "## Run the sampler"
   ]
  },
  {
   "cell_type": "code",
   "execution_count": null,
   "id": "ad0df12c",
   "metadata": {},
   "outputs": [],
   "source": [
    "dsampler = dynesty.DynamicNestedSampler(loglike, prior_transform, ndim=3, sample='rwalk')\n",
    "dsampler.run_nested()\n",
    "dres = dsampler.results"
   ]
  },
  {
   "cell_type": "markdown",
   "id": "69590ab6",
   "metadata": {},
   "source": [
    "## Visualize the results"
   ]
  },
  {
   "cell_type": "code",
   "execution_count": null,
   "id": "e921a92f",
   "metadata": {},
   "outputs": [],
   "source": [
    "from dynesty import plotting as dyplot\n",
    "\n",
    "truths = [logh_true, log_omega_true, phase_true]\n",
    "labels = [r'$logh$', r'$log\\omega$', r'$phase$']\n",
    "fig, axes = dyplot.traceplot(dsampler.results, truths=truths, labels=labels,\n",
    "                             fig=plt.subplots(3, 2, figsize=(16, 12)))\n",
    "fig.tight_layout()"
   ]
  },
  {
   "cell_type": "code",
   "execution_count": null,
   "id": "95cef35a",
   "metadata": {},
   "outputs": [],
   "source": [
    "fig, axes = dyplot.cornerplot(dres, truths=truths, show_titles=True, \n",
    "                          title_kwargs={'y': 1.04}, labels=labels,\n",
    "                              fig=plt.subplots(3, 3, figsize=(15, 15)))"
   ]
  },
  {
   "cell_type": "markdown",
   "id": "ab58a98e",
   "metadata": {},
   "source": [
    "## Overestimated uncertainties\n",
    "\n",
    "1. Generate the signal with extra noise that is not accounted in the determined uncertainties\n",
    "2. Run the original likelihood and see what happens\n",
    "3. Modify the likelihood accordingly to take into account extra white noise\n",
    "4. Compare evidences and decide, which model describes the data better (with or without extra noise)"
   ]
  },
  {
   "cell_type": "code",
   "execution_count": null,
   "id": "2c69903d",
   "metadata": {},
   "outputs": [],
   "source": [
    "def gw_sig(logh, log_omega, phase, time, err, equad_true):\n",
    "  det_sig = 10**logh/10**log_omega * np.sin(10**log_omega * time + phase)\n",
    "  #plus white noise\n",
    "  det_sig += err * np.random.randn(len(time))\n",
    "  # add extra wide noise here\n",
    "  det_sig += equad_true * np.random.randn(len(time))\n",
    "  return det_sig\n",
    "\n",
    "logh_true = -13.2 # dimensionless amplitude h\n",
    "log_omega_true = -7. # Hz\n",
    "phase_true = np.random.uniform(0, 2. * np.pi)\n",
    "\n",
    "equad_true = 2e-7\n",
    "err = 100. * 1e-9 #100 ns\n",
    "time = np.arange(-365.25 * 5., 365.25 * 5., 14.) # 10 years of observations every 14 days\n",
    "y = gw_sig(logh_true, log_omega_true, phase_true, time * 24. *3600., err, equad_true)\n",
    "\n",
    "plt.errorbar(time, y, err, fmt = \".\")"
   ]
  },
  {
   "cell_type": "code",
   "execution_count": null,
   "id": "0356ecfa",
   "metadata": {},
   "outputs": [],
   "source": [
    "def prior_transform(u):\n",
    "    v = u * 4\n",
    "    v[0] = u[0] * 7 - 20 #[-20, -12]\n",
    "    v[1] = u[1] * 4 - 9. # [-9, -5]\n",
    "    v[2] = u[2] * 2 * np.pi #[0, 2pi]\n",
    "    v[3] = u[3] * 1 #[0, 1]\n",
    "    return v\n",
    "\n",
    "def loglike(v):\n",
    "    \n",
    "    ........\n",
    "    \n",
    "    if not np.isfinite(loglike):\n",
    "        loglike = -1e300\n",
    "        \n",
    "    return loglike"
   ]
  },
  {
   "cell_type": "code",
   "execution_count": null,
   "id": "03f6c7f8",
   "metadata": {},
   "outputs": [],
   "source": [
    "dsampler = dynesty.DynamicNestedSampler(loglike, prior_transform, ndim=4, sample='rwalk')\n",
    "dsampler.run_nested()\n",
    "dres = dsampler.results"
   ]
  },
  {
   "cell_type": "code",
   "execution_count": null,
   "id": "8578ab50",
   "metadata": {},
   "outputs": [],
   "source": [
    "........."
   ]
  },
  {
   "cell_type": "markdown",
   "id": "ce5b4ea9",
   "metadata": {},
   "source": [
    "## Detecting stochastic signal (GWB) in the noisy data\n",
    "\n",
    "1. Generate the stochastic signal\n",
    "2. Check how it looks in the frequency domain. What is the difference between white and red noise?\n",
    "3. What is the covariance matric of the Lorentzian spectrum?\n",
    "4. Construct the likelihood function which includes the stochastic process"
   ]
  },
  {
   "cell_type": "code",
   "execution_count": null,
   "id": "01a957b3",
   "metadata": {},
   "outputs": [],
   "source": [
    "from numpy import linalg\n",
    "\n",
    "def construct_covariance_matrix(theta, time, err):\n",
    "    logA, log_f0 = theta\n",
    "    cov_wn = err**2*np.diag(np.ones(len(time)))\n",
    "    tau = np.asarray([[2.*np.pi*abs(time[i]-time[j]) for i in range(len(time))] for j in range(len(time))]) \n",
    "    cov_rn = 10**(logA) * np.exp(- 10**log_f0 * tau)\n",
    "    return cov_wn + cov_rn\n",
    "\n",
    "def gwb_sig(logA, log_f0, time, err):\n",
    "   theta0 = [logA, log_f0]\n",
    "   mean = np.zeros(len(time))\n",
    "   cov = construct_covariance_matrix(theta0, time, err)\n",
    "\n",
    "   #construct a signal with multivariate normal function\n",
    "   stoch_sig = np.random.multivariate_normal(mean, cov)\n",
    "   #plus white noise\n",
    "   return stoch_sig\n",
    "\n",
    "logA_true = -12.1 # dimensionless amplitude h\n",
    "log_f0_true = -8.1 # Hz\n",
    "err = 100. * 1e-9 #100 ns\n",
    "time = np.arange(0., 365.25 * 10., 28.) # 10 years of observations every 28 days\n",
    "y = gwb_sig(logA_true, log_f0_true, time * 24. *3600., err)\n"
   ]
  },
  {
   "cell_type": "markdown",
   "id": "e2455cbf",
   "metadata": {},
   "source": [
    "## Construct fft of the signal"
   ]
  },
  {
   "cell_type": "code",
   "execution_count": null,
   "id": "3cc53562",
   "metadata": {},
   "outputs": [],
   "source": []
  },
  {
   "cell_type": "markdown",
   "id": "4e3055a2",
   "metadata": {},
   "source": [
    "## Constrcut prior and likelihood"
   ]
  },
  {
   "cell_type": "code",
   "execution_count": null,
   "id": "32ba11e8",
   "metadata": {},
   "outputs": [],
   "source": [
    "def prior_transform(u):\n",
    "    v = u * 2\n",
    "    v[0] = u[0] * 10 - 20\n",
    "    v[1] = u[1] * 4 - 9.\n",
    "    return v\n",
    "\n",
    "def loglike(v):\n",
    "    theta = v\n",
    "    t = time * 24. * 3600.\n",
    "    res = y\n",
    "    ndim = len(theta)\n",
    "    C = construct_covariance_matrix(theta, t, err)\n",
    "    det_sign, det_log_value = linalg.slogdet(C)\n",
    "    Cinv = linalg.inv(C)\n",
    "    loglike = ......\n",
    "    \n",
    "    if not np.isfinite(loglike):\n",
    "        loglike = -1e300\n",
    "        \n",
    "    return loglike"
   ]
  },
  {
   "cell_type": "markdown",
   "id": "f04759fc",
   "metadata": {},
   "source": [
    "## Run sampler"
   ]
  },
  {
   "cell_type": "code",
   "execution_count": null,
   "id": "a2988e1c",
   "metadata": {},
   "outputs": [],
   "source": [
    "dsampler = dynesty.NestedSampler(loglike, prior_transform, ndim=2,\n",
    "                                         sample='rwalk')\n",
    "dsampler.run_nested(dlogz = 1.0)\n",
    "dres = dsampler.results"
   ]
  },
  {
   "cell_type": "markdown",
   "id": "261d19da",
   "metadata": {},
   "source": [
    "## Visualize the results"
   ]
  },
  {
   "cell_type": "code",
   "execution_count": null,
   "id": "52073ade",
   "metadata": {},
   "outputs": [],
   "source": [
    "from dynesty import plotting as dyplot\n",
    "truths = [logA_true, log_f0_true]\n",
    "ndim = len(truths)\n",
    "labels = [r'$logA$', r'$log f0$']\n",
    "fig, axes = dyplot.cornerplot(dres, truths=truths, show_titles=True, \n",
    "                              title_kwargs={'y': 1.04}, labels=labels,\n",
    "                              fig=plt.subplots(ndim, ndim, figsize=(15, 15)))"
   ]
  },
  {
   "cell_type": "code",
   "execution_count": null,
   "id": "e50a9c00",
   "metadata": {},
   "outputs": [],
   "source": []
  }
 ],
 "metadata": {
  "kernelspec": {
   "display_name": "Python 3 (ipykernel)",
   "language": "python",
   "name": "python3"
  },
  "language_info": {
   "codemirror_mode": {
    "name": "ipython",
    "version": 3
   },
   "file_extension": ".py",
   "mimetype": "text/x-python",
   "name": "python",
   "nbconvert_exporter": "python",
   "pygments_lexer": "ipython3",
   "version": "3.9.15"
  }
 },
 "nbformat": 4,
 "nbformat_minor": 5
}
